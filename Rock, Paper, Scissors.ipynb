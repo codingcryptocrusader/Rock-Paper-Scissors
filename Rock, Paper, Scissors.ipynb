{
 "cells": [
  {
   "cell_type": "code",
   "execution_count": null,
   "metadata": {},
   "outputs": [],
   "source": [
    "import random\n",
    "\n",
    "# Define valid choices\n",
    "options = ['rock', 'paper', 'scissors']\n",
    "\n",
    "# Prompt user for input with validation\n",
    "while True:\n",
    "    user_choice = input(\"Enter rock, paper, or scissors: \").lower()\n",
    "    if user_choice in options:\n",
    "        break\n",
    "    else:\n",
    "        print(\"Invalid choice. Please try again.\")\n",
    "\n",
    "# Random computer choice\n",
    "computer_choice = random.choice(options)\n",
    "\n",
    "# Display choices\n",
    "print(f\"\\nYou chose: {user_choice}\")\n",
    "print(f\"Computer chose: {computer_choice}\")\n",
    "\n",
    "# Game logic\n",
    "if user_choice == computer_choice:\n",
    "    print(\"It's a tie!\")\n",
    "elif (\n",
    "    (user_choice == 'rock' and computer_choice == 'scissors') or\n",
    "    (user_choice == 'scissors' and computer_choice == 'paper') or\n",
    "    (user_choice == 'paper' and computer_choice == 'rock')\n",
    "):\n",
    "    print(\"You win!\")\n",
    "else:\n",
    "    print(\"Computer wins!\")\n"
   ]
  }
 ],
 "metadata": {
  "kernelspec": {
   "display_name": "Python 3",
   "language": "python",
   "name": "python3"
  },
  "language_info": {
   "codemirror_mode": {
    "name": "ipython",
    "version": 3
   },
   "file_extension": ".py",
   "mimetype": "text/x-python",
   "name": "python",
   "nbconvert_exporter": "python",
   "pygments_lexer": "ipython3",
   "version": "3.12.10"
  }
 },
 "nbformat": 4,
 "nbformat_minor": 2
}
